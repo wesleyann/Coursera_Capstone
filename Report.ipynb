{
 "cells": [
  {
   "cell_type": "markdown",
   "metadata": {},
   "source": [
    "# Capstone Project - The Battle of Neighborhoods"
   ]
  },
  {
   "cell_type": "markdown",
   "metadata": {},
   "source": [
    "## Introduction/Business Problem"
   ]
  },
  {
   "cell_type": "markdown",
   "metadata": {},
   "source": [
    "The goal of this project is to help potential residents of North York, Toronto, CA select great neighborhoods to reside. Pontential residents might be intersted in the location of the best public/private schools for their children, location of supermarkes, hospitals, malls, restaurants, etc. \n",
    "\n",
    "The project will try to provide the necessary information for statkeholders to make informed decisions."
   ]
  },
  {
   "cell_type": "markdown",
   "metadata": {},
   "source": [
    "## Description of Data"
   ]
  },
  {
   "cell_type": "markdown",
   "metadata": {},
   "source": [
    "This project will utilize the Foursquare API as its primary source of data. Foursquare's 'places' API will be heavily utilized since it provides the ability to perform location search, location sharing and business details.\n",
    "\n",
    "\n",
    "Information to be collected from Foursquare will include venue names, locations, menus, etc.  \n",
    "\n",
    "Once the list of neigbhorhoods is obtained, a connection to Foursquare's API is made to garner information about each neighborhood under consideration.\n",
    "\n",
    "The data that is  retrieved from Foursquare will contain venue information within specified distance of lattitude and longitude of zipcodes.\n",
    "\n",
    "The information that will be obtained for each venue will consist of the following:\n",
    "\n",
    "1. Neighborhood\n",
    "2. Neighborhood Latitude\n",
    "3. Neighborhood Longitude \n",
    "4. Venue Latitude\n",
    "5. Venue Longitude\n",
    "6. Venue Category\n",
    "7. etc"
   ]
  },
  {
   "cell_type": "markdown",
   "metadata": {},
   "source": [
    "## Methodology\n",
    "\n",
    "The clustering approach will be used for comparisons. The Foursquare API will be our primary source of data. We will also get data from https://en.wikipedia.org/wiki/List_of_postal_codes_of_Canada:_M. \n",
    "\n",
    "Data is cleaned and sorted based on rankings and assessed visually by employing graphing utilities from the Python libraries."
   ]
  },
  {
   "cell_type": "markdown",
   "metadata": {},
   "source": [
    "## Results\n",
    "\n",
    "North York is a very diverse and vibrant borough in Toronto.  \n",
    "\n",
    "<img src=\"mapcluster.JPG\">\n",
    "\n",
    "<img src=\"commonVenues.JPG\">"
   ]
  },
  {
   "cell_type": "markdown",
   "metadata": {},
   "source": [
    "## Discussion\n",
    "\n",
    "The goal of this project is to provide potential residents of North York the ability to choose a neighborhood they will feel good residing in. The results has provided stakeholders all the necessary information to make an informed decision."
   ]
  },
  {
   "cell_type": "markdown",
   "metadata": {},
   "source": [
    "## Conclusion\n",
    "\n",
    "The goal of this project is to provide potential residents of North York the ability to choose a neighborhood they will feel good residing in. Utilizing K-means clustering, the results obtained provides stakeholders all the necessary information to make an informed decision.  "
   ]
  }
 ],
 "metadata": {
  "kernelspec": {
   "display_name": "Python 3",
   "language": "python",
   "name": "python3"
  },
  "language_info": {
   "codemirror_mode": {
    "name": "ipython",
    "version": 3
   },
   "file_extension": ".py",
   "mimetype": "text/x-python",
   "name": "python",
   "nbconvert_exporter": "python",
   "pygments_lexer": "ipython3",
   "version": "3.7.6"
  }
 },
 "nbformat": 4,
 "nbformat_minor": 4
}
