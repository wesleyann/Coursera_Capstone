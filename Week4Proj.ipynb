{
 "cells": [
  {
   "cell_type": "markdown",
   "metadata": {},
   "source": [
    "# Capstone Project - The Battle of Neighborhoods"
   ]
  },
  {
   "cell_type": "markdown",
   "metadata": {},
   "source": [
    "## Introduction/Business Problem"
   ]
  },
  {
   "cell_type": "markdown",
   "metadata": {},
   "source": [
    "The goal of this project is to help potential residents of Houston select great neighborhoods to reside. Pontential residents might be intersted in the location of the best public/private schools for their children, location of supermarkes, hospitals, malls, restaurants, etc. \n",
    "\n",
    "The hproject will try to provide the necessary information for statkeholders to make informed decisions."
   ]
  },
  {
   "cell_type": "markdown",
   "metadata": {},
   "source": [
    "## Description of Data"
   ]
  },
  {
   "cell_type": "markdown",
   "metadata": {},
   "source": [
    "This project will utilize the Foursquare API as its primary source of data. Foursquare's 'places' API will be heavily utilized since it provides the ability to perform location search, location sharing and business details.\n",
    "\n",
    "\n",
    "Information to be collected from Foursquare will include venue names, locations, menus, etc.  \n",
    "\n",
    "Once the list of neigbhorhoods is obtained, a connection to Foursquare's API is made to garner information about each neighborhood under consideration.\n",
    "\n",
    "The data that is  retrieved from Foursquare will contain venue information within specified distance of lattitude and longitude of zipcodes.\n",
    "\n",
    "The information that will be obtained for each venue will consist of the following?venue as follows:\n",
    "\n",
    "1. Neighborhood\n",
    "2. Neighborhood Latitude\n",
    "3. Neighborhood Longitude \n",
    "4. Venue Latitude\n",
    "5. Venue Longitude\n",
    "6. Venue Category\n",
    "7. etc"
   ]
  },
  {
   "cell_type": "code",
   "execution_count": null,
   "metadata": {},
   "outputs": [],
   "source": []
  }
 ],
 "metadata": {
  "kernelspec": {
   "display_name": "Python 3",
   "language": "python",
   "name": "python3"
  },
  "language_info": {
   "codemirror_mode": {
    "name": "ipython",
    "version": 3
   },
   "file_extension": ".py",
   "mimetype": "text/x-python",
   "name": "python",
   "nbconvert_exporter": "python",
   "pygments_lexer": "ipython3",
   "version": "3.7.6"
  }
 },
 "nbformat": 4,
 "nbformat_minor": 4
}
